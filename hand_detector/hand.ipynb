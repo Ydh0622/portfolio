{
 "cells": [
  {
   "cell_type": "code",
   "execution_count": 1,
   "metadata": {},
   "outputs": [],
   "source": [
    "# 필요한 라이브러리 임포트\n",
    "import cv2\n",
    "import mediapipe as mp\n",
    "import pyautogui\n"
   ]
  },
  {
   "cell_type": "code",
   "execution_count": 2,
   "metadata": {},
   "outputs": [],
   "source": [
    "# MediaPipe 핸드 트래킹 초기화\n",
    "mp_hands = mp.solutions.hands\n",
    "hands = mp_hands.Hands(max_num_hands=1)\n",
    "mp_draw = mp.solutions.drawing_utils\n"
   ]
  },
  {
   "cell_type": "code",
   "execution_count": 3,
   "metadata": {},
   "outputs": [],
   "source": [
    "# 비디오 캡처 설정\n",
    "cap = cv2.VideoCapture(0)\n",
    "\n",
    "# 화면 크기 가져오기\n",
    "screen_width, screen_height = pyautogui.size()\n"
   ]
  },
  {
   "cell_type": "code",
   "execution_count": 4,
   "metadata": {},
   "outputs": [],
   "source": [
    "# 핸드 트래킹 루프 시작\n",
    "while True:\n",
    "    # 카메라에서 프레임 읽기\n",
    "    success, img = cap.read()\n",
    "    if not success:\n",
    "        break\n",
    "\n",
    "    # BGR 이미지를 RGB로 변환\n",
    "    img_rgb = cv2.cvtColor(img, cv2.COLOR_BGR2RGB)\n",
    "\n",
    "    # 손 인식 처리\n",
    "    result = hands.process(img_rgb)\n",
    "\n",
    "    # 손 랜드마크 시각화 및 제어\n",
    "    if result.multi_hand_landmarks:\n",
    "        for hand_landmarks in result.multi_hand_landmarks:\n",
    "            mp_draw.draw_landmarks(img, hand_landmarks, mp_hands.HAND_CONNECTIONS)\n",
    "\n",
    "            # 손가락 끝 점 좌표 가져오기 (여기서는 엄지 손가락)\n",
    "            thumb_tip = hand_landmarks.landmark[mp_hands.HandLandmark.THUMB_TIP]\n",
    "            x = int(thumb_tip.x * screen_width)\n",
    "            y = int(thumb_tip.y * screen_height)\n",
    "\n",
    "            # 화면에 커서 위치 업데이트\n",
    "            pyautogui.moveTo(x, y)\n",
    "\n",
    "            # 특정 제스처로 클릭 (여기서는 엄지와 검지를 서로 접촉할 때 클릭)\n",
    "            index_tip = hand_landmarks.landmark[mp_hands.HandLandmark.INDEX_FINGER_TIP]\n",
    "            if (abs(thumb_tip.x - index_tip.x) < 0.05) and (abs(thumb_tip.y - index_tip.y) < 0.05):\n",
    "                pyautogui.click()\n",
    "\n",
    "    # 결과 이미지 표시\n",
    "    cv2.imshow(\"Hand Tracking\", img)\n",
    "\n",
    "    # 'q' 키를 눌러 종료\n",
    "    if cv2.waitKey(1) & 0xFF == ord('q'):\n",
    "        break\n"
   ]
  },
  {
   "cell_type": "code",
   "execution_count": 5,
   "metadata": {},
   "outputs": [],
   "source": [
    "# 리소스 해제\n",
    "cap.release()\n",
    "cv2.destroyAllWindows()\n"
   ]
  }
 ],
 "metadata": {
  "kernelspec": {
   "display_name": "Python 3",
   "language": "python",
   "name": "python3"
  },
  "language_info": {
   "codemirror_mode": {
    "name": "ipython",
    "version": 3
   },
   "file_extension": ".py",
   "mimetype": "text/x-python",
   "name": "python",
   "nbconvert_exporter": "python",
   "pygments_lexer": "ipython3",
   "version": "3.8.19"
  }
 },
 "nbformat": 4,
 "nbformat_minor": 2
}
