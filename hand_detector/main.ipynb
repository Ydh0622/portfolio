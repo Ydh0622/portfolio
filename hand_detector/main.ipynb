{
 "cells": [
  {
   "cell_type": "code",
   "execution_count": 4,
   "metadata": {},
   "outputs": [],
   "source": [
    "import cv2\n",
    "import time\n",
    "import numpy as np\n",
    "import hand_detector as hd\n",
    "import pyautogui"
   ]
  },
  {
   "cell_type": "code",
   "execution_count": 5,
   "metadata": {},
   "outputs": [
    {
     "name": "stdout",
     "output_type": "stream",
     "text": [
      "2880 1800\n"
     ]
    }
   ],
   "source": [
    "wCam, hCam = 640, 480\n",
    "frameR = 100\n",
    "smoothening = 7\n",
    "\n",
    "pTime = 0\n",
    "plocX, plocY = 0, 0\n",
    "clocX, clocY = 0, 0\n",
    "\n",
    "cap = cv2.VideoCapture(0)\n",
    "cap.set(3, wCam)\n",
    "cap.set(4, hCam)\n",
    "detector = hd.handDetector(detectionCon=0.7)\n",
    "wScr, hScr = pyautogui.size()\n",
    "print(wScr, hScr)"
   ]
  },
  {
   "cell_type": "code",
   "execution_count": null,
   "metadata": {},
   "outputs": [],
   "source": [
    "while True:\n",
    "    success, img = cap.read()  # 카메라에서 프레임을 읽음\n",
    "    img = detector.findHands(img)  # 손을 감지하여 표시\n",
    "    lmList, bbox = detector.findPosition(img)  # 손의 위치 정보를 가져옴\n",
    "    output = img.copy()  # 이미지 복사본 생성\n",
    "\n",
    "    if len(lmList) != 0:\n",
    "        # print(lmList[4], lmList[8])\n",
    "        x1, y1 = lmList[8][1:]  # 검지 끝 좌표\n",
    "        x2, y2 = lmList[12][1:]  # 중지 끝 좌표\n",
    "\n",
    "        fingers = detector.fingersUp()  # 각 손가락이 올라갔는지 확인\n",
    "        # print(fingers)\n",
    "        cv2.rectangle(img, (frameR, frameR), (wCam - frameR, hCam - frameR), (205, 250, 255), -1)  # 화면 경계 사각형\n",
    "        img = cv2.addWeighted(img, 0.5, output, 1 - .5, 0, output)  # 화면에 투명도 추가\n",
    "\n",
    "        # 검지만 들어올려진 경우: 이동 모드\n",
    "        if fingers[1] == 1 and fingers[2] == 0:\n",
    "            # 좌표 변환\n",
    "            x3 = np.interp(x1, (frameR, wCam - frameR), (0, wScr))\n",
    "            y3 = np.interp(y1, (frameR, hCam - frameR), (0, hScr))\n",
    "\n",
    "            # 이동 값을 부드럽게 처리\n",
    "            clocX = plocX + (x3 - plocX) / smoothening\n",
    "            clocY = plocY + (y3 - plocY) / smoothening\n",
    "\n",
    "            # 마우스 이동\n",
    "            pyautogui.moveTo(wScr - clocX, clocY)\n",
    "            cv2.circle(img, (x1, y1), 6, (255, 28, 0), cv2.FILLED)  # 이동 모드 표시\n",
    "            plocX, plocY = clocX, clocY\n",
    "            # cv2.putText(img, 'Moving Mode', (20, 50), cv2.FONT_HERSHEY_PLAIN, 2, (255, 0, 0), 2)\n",
    "\n",
    "        # 검지와 중지가 둘 다 들어올려진 경우: 클릭 모드\n",
    "        if fingers[1] == 1 and fingers[2] == 1:\n",
    "            # 두 손가락 사이 거리 측정\n",
    "            length, img, lineInfo = detector.findDistance(8, 12, img)\n",
    "\n",
    "            # 거리 짧으면 클릭\n",
    "            if length < 40:\n",
    "                cv2.circle(img, (lineInfo[4], lineInfo[5]), 6, (0, 255, 0), cv2.FILLED)  # 클릭 표시\n",
    "                # cv2.putText(img, 'Click!!', (20, 50), cv2.FONT_HERSHEY_PLAIN, 2, (0, 255, 0), 2)\n",
    "                pyautogui.click()\n",
    "\n",
    "    cTime = time.time()  # 현재 시간\n",
    "    fps = 1 / (cTime - pTime)  # 프레임 속도 계산\n",
    "    pTime = cTime\n",
    "\n",
    "    cv2.imshow(\"Vitual mouse monitor\", cv2.flip(img, 1))  # 화면을 좌우 반전하여 표시\n",
    "    cv2.setWindowProperty(\"Vitual mouse monitor\", cv2.WND_PROP_TOPMOST, 1)  # 창을 항상 위로 설정\n",
    "    cv2.waitKey(1)\n",
    "\n",
    "    if cv2.waitKey(1) & 0xFF == 27:  # Esc 키가 눌리면 종료\n",
    "        break\n",
    "\n",
    "cap.release()  # 카메라 해제\n",
    "cv2.destroyAllWindows()  # 모든 창 닫기\n"
   ]
  },
  {
   "cell_type": "code",
   "execution_count": null,
   "metadata": {},
   "outputs": [],
   "source": []
  },
  {
   "cell_type": "code",
   "execution_count": null,
   "metadata": {},
   "outputs": [],
   "source": [
    " "
   ]
  }
 ],
 "metadata": {
  "kernelspec": {
   "display_name": "Python 3",
   "language": "python",
   "name": "python3"
  },
  "language_info": {
   "codemirror_mode": {
    "name": "ipython",
    "version": 3
   },
   "file_extension": ".py",
   "mimetype": "text/x-python",
   "name": "python",
   "nbconvert_exporter": "python",
   "pygments_lexer": "ipython3",
   "version": "3.8.19"
  }
 },
 "nbformat": 4,
 "nbformat_minor": 2
}
